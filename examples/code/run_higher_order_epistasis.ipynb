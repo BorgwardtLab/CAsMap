{
 "cells": [
  {
   "cell_type": "code",
   "execution_count": null,
   "metadata": {
    "collapsed": true
   },
   "outputs": [],
   "source": [
    "# Import libraries\n",
    "import os\n",
    "\n",
    "# Import CASMAP package\n",
    "from sigpatsearch import CASMAP"
   ]
  },
  {
   "cell_type": "code",
   "execution_count": null,
   "metadata": {
    "collapsed": true
   },
   "outputs": [],
   "source": [
    "# NOTE: THESE PATHS ASSUME YOU ARE EXECUTING THE NOTEBOOK FROM THE FOLDER examples/code. \n",
    "#       IF NOT, PLEASE ADJUST THE PATHS ACCORDINGLY\n",
    "\n",
    "# Get current working directory. Used to set the output directory relative to the current one.\n",
    "current_dir = os.getcwd()\n",
    "\n",
    "# Path to input files (genotype, phenotype and categorical covariate)\n",
    "data_path = '../data/higher_order_epistasis'\n",
    "dataset = 'avrB'\n",
    "\n",
    "genotype_file  = os.path.join(data_path, dataset, 'X.dat')\n",
    "phenotype_file = os.path.join(data_path, dataset, 'Y.dat')\n",
    "covariate_file = os.path.join(data_path, dataset, 'C.dat')\n",
    "\n",
    "# Path to output directory\n",
    "output_path = os.path.join(current_dir, '../output/higher_order_epistasis', dataset)\n",
    "\n",
    "# Create output directory (if it does not exist)\n",
    "if not os.path.isdir(output_path):\n",
    "    os.makedirs(output_path)"
   ]
  },
  {
   "cell_type": "code",
   "execution_count": null,
   "metadata": {
    "collapsed": false
   },
   "outputs": [],
   "source": [
    "# Create object to search for higher-order epistasis in a Genome-Wide Association Study (GWAS)\n",
    "higher_order_epistasis = CASMAP(mode='higherOrderEpistasis')\n",
    "\n",
    "# Customize the hyperparameters of the analysis\n",
    "#     alpha: Target Family-Wise Error Rate(FWER)\n",
    "#     max_comb_size: Maximum number of interacting variants (set max_comb_size = 0 for unlimited order)\n",
    "higher_order_epistasis.setTargetFWER(alpha=0.05)  # Target FWER\n",
    "higher_order_epistasis.setMaxCombinationSize(max_comb_size=0)  # Include interactions of any order in the analysis\n",
    "\n",
    "# Display state of higher_order_epistasis object\n",
    "print(higher_order_epistasis)"
   ]
  },
  {
   "cell_type": "code",
   "execution_count": null,
   "metadata": {
    "collapsed": false
   },
   "outputs": [],
   "source": [
    "# Read input files\n",
    "# NOTE: Order below does not reflect positional input argument order. \n",
    "#       We recommended to use keyword arguments as shown below.\n",
    "higher_order_epistasis.readFiles(genotype_file=genotype_file, phenotype_file=phenotype_file, covariate_file=covariate_file)\n",
    "\n",
    "# The covariate file is optional.\n",
    "# Omit it to run the analysis without correcting for a categorical covariate.\n",
    "# higher_order_epistasis.readFiles(genotype_file=genotype_file, phenotype_file=phenotype_file)\n",
    "\n",
    "# For input genotype files using an additive encoding (0 = homozygous major, 1 = heterozygous, 2 = homozygous minor), use\n",
    "# the extra input argument 'encoding' to select between a dominant (0 = homozygous major, 1 = heterozygous and homozygous \n",
    "# minor) or a recessive encoding (0 = homozygous major and heterozygous, 1 = homozygous minor).\n",
    "# NOTE: The files provided in this example are already binary. Hence, a 'dominant' encoding will leave the files unchanged\n",
    "#       whereas a 'recessive' encoding would result in a file of all zeros, not being applicable to this example.\n",
    "\n",
    "# higher_order_epistasis.readFiles(genotype_file=genotype_file, phenotype_file=phenotype_file, \n",
    "#                                  covariate_file=covariate_file, encoding='dominant')\n",
    "# higher_order_epistasis.readFiles(genotype_file=genotype_file, phenotype_file=phenotype_file, \n",
    "#                                  covariate_file=covariate_file, encoding='recessive')  # Do not use with already binarized data\n",
    "\n",
    "\n",
    "# Display state of higher_order_epistasis object again\n",
    "print(higher_order_epistasis)"
   ]
  },
  {
   "cell_type": "code",
   "execution_count": null,
   "metadata": {
    "collapsed": true
   },
   "outputs": [],
   "source": [
    "# Run significant pattern mining algorithm to retrieve statistically associated interactions between genomic variants\n",
    "higher_order_epistasis.execute()"
   ]
  },
  {
   "cell_type": "code",
   "execution_count": null,
   "metadata": {
    "collapsed": true
   },
   "outputs": [],
   "source": [
    "# Write high-level summary and profiling info related to the execution of the algorithm\n",
    "higher_order_epistasis.writeSummary(os.path.join(output_path, 'summary.txt'))\n",
    "higher_order_epistasis.writeProfile(os.path.join(output_path, 'profiling.txt'))\n",
    "\n",
    "# Write raw list of (possibly redundant) significantly associated multiplicative interactions of genomic variants\n",
    "higher_order_epistasis.writeSignificantInteractions(os.path.join(output_path, 'significant_interactions.txt'))"
   ]
  }
 ],
 "metadata": {
  "kernelspec": {
   "display_name": "Python 2",
   "language": "python",
   "name": "python2"
  },
  "language_info": {
   "codemirror_mode": {
    "name": "ipython",
    "version": 2
   },
   "file_extension": ".py",
   "mimetype": "text/x-python",
   "name": "python",
   "nbconvert_exporter": "python",
   "pygments_lexer": "ipython2",
   "version": "2.7.10"
  }
 },
 "nbformat": 4,
 "nbformat_minor": 0
}
