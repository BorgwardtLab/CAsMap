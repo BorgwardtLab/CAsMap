{
 "cells": [
  {
   "cell_type": "code",
   "execution_count": 1,
   "metadata": {
    "collapsed": true
   },
   "outputs": [],
   "source": [
    "# Import libraries\n",
    "import os\n",
    "\n",
    "# Import CAsMap package\n",
    "import sigpatsearch as sg"
   ]
  },
  {
   "cell_type": "code",
   "execution_count": 2,
   "metadata": {
    "collapsed": true
   },
   "outputs": [],
   "source": [
    "# Get current working directory. Used to set the output directory relative to the current one.\n",
    "current_dir = os.getcwd()\n",
    "\n",
    "# Path to input files (genotype, phenotype and categorical covariate)\n",
    "data_path = '../data/high_order_epistasis'\n",
    "dataset = 'avrB'\n",
    "\n",
    "genotype_file  = os.path.join(data_path, dataset, 'X.dat')\n",
    "phenotype_file = os.path.join(data_path, dataset, 'Y.dat')\n",
    "covariate_file = os.path.join(data_path, dataset, 'C.dat')\n",
    "\n",
    "# Path to output directory\n",
    "output_path = os.path.join(current_dir, '../output/high_order_epistasis', dataset)\n",
    "\n",
    "# Create output directory (if it does not exist)\n",
    "if not os.path.isdir(output_path):\n",
    "    os.makedirs(output_path)"
   ]
  },
  {
   "cell_type": "code",
   "execution_count": 3,
   "metadata": {
    "collapsed": true
   },
   "outputs": [],
   "source": [
    "# Create object to search for high-order epistasis in a Genome-Wide Association Study (GWAS)\n",
    "high_order_epistasis = sg.createSigPatSearch(method='facs')\n",
    "\n",
    "# Set hyperparameters\n",
    "high_order_epistasis.set_alpha(0.05)  # Target FWER\n",
    "high_order_epistasis.set_lmax(0)  # Include interactions of any order in the analysis"
   ]
  },
  {
   "cell_type": "code",
   "execution_count": 4,
   "metadata": {
    "collapsed": true
   },
   "outputs": [],
   "source": [
    "# Read input files\n",
    "high_order_epistasis.read_eth_files(genotype_file, phenotype_file, covariate_file)"
   ]
  },
  {
   "cell_type": "code",
   "execution_count": 5,
   "metadata": {
    "collapsed": true
   },
   "outputs": [],
   "source": [
    "# Run significant pattern mining algorithm to retrieve statistically associated interactions between genomic variants\n",
    "high_order_epistasis.execute()"
   ]
  },
  {
   "cell_type": "code",
   "execution_count": null,
   "metadata": {
    "collapsed": true
   },
   "outputs": [],
   "source": [
    "# Write high-level summary and profiling info related to the execution of the algorithm\n",
    "high_order_epistasis.write_summary(os.path.join(output_path, 'summary.txt'))\n",
    "high_order_epistasis.write_profile(os.path.join(output_path, 'profiling.txt'))\n",
    "\n",
    "# Write raw list of (possibly redundant) significantly associated multiplicative interactions of genomic variants\n",
    "high_order_epistasis.write_pvals_significant_itemsets(os.path.join(output_path, 'significant_interactions.csv'))\n",
    "\n",
    "# Optional: write list of P-values for all testable interactions (significantly associated or not)\n",
    "# NOTE: Seems to be broken, so perhaps we should remove it for now\n",
    "high_order_epistasis.write_pvals_testable_itemsets(os.path.join(output_path, 'testable_interactions_pvalues.csv'))"
   ]
  }
 ],
 "metadata": {
  "kernelspec": {
   "display_name": "Python 2",
   "language": "python",
   "name": "python2"
  },
  "language_info": {
   "codemirror_mode": {
    "name": "ipython",
    "version": 2
   },
   "file_extension": ".py",
   "mimetype": "text/x-python",
   "name": "python",
   "nbconvert_exporter": "python",
   "pygments_lexer": "ipython2",
   "version": "2.7.10"
  }
 },
 "nbformat": 4,
 "nbformat_minor": 0
}
