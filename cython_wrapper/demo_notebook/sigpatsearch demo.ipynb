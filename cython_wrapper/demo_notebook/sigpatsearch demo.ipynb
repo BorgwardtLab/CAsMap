{
 "cells": [
  {
   "cell_type": "code",
   "execution_count": 1,
   "metadata": {
    "collapsed": true
   },
   "outputs": [],
   "source": [
    "import sigpatsearch as s"
   ]
  },
  {
   "cell_type": "code",
   "execution_count": 2,
   "metadata": {
    "collapsed": true
   },
   "outputs": [],
   "source": [
    "#different methods for creating a FAIS object\n",
    "sig_fais1 = s.createSigPatSearch(method='fais')\n",
    "sig_fais2 = s.createSigPatSearch(use_intervals=True)\n",
    "sig_fais3 = s.createSigPatSearch(use_combinations=False)\n",
    "\n",
    "#use_covariate is False by default\n",
    "sig_fais4 = s.createSigPatSearch(use_intervals=True, use_covariate=False)"
   ]
  },
  {
   "cell_type": "code",
   "execution_count": 3,
   "metadata": {
    "collapsed": false
   },
   "outputs": [
    {
     "name": "stdout",
     "output_type": "stream",
     "text": [
      "FAIS object with:\n",
      " * alpha = 0.05\n",
      " * lmax = 0\n"
     ]
    }
   ],
   "source": [
    "#method takes priority over other flags, \n",
    "# so once the method is set, trying to change the properties of the algorithm\n",
    "# to disagree with the method name, e.g. FAIS with use_combinations=True, will not work\n",
    "sig_fais5 = s.createSigPatSearch(method='fais', use_combinations=True, use_covariate=True)\n",
    "#print(type(sig_fais5))\n",
    "print(sig_fais5)"
   ]
  },
  {
   "cell_type": "code",
   "execution_count": 7,
   "metadata": {
    "collapsed": false
   },
   "outputs": [
    {
     "name": "stdout",
     "output_type": "stream",
     "text": [
      "FastCMH object with:\n",
      " * alpha = 0.05\n",
      " * lmax = 0\n"
     ]
    }
   ],
   "source": [
    "#different methods for creating a FastCMH object\n",
    "sig_fastcmh1 = s.createSigPatSearch(method='fastcmh')\n",
    "sig_fastcmh2 = s.createSigPatSearch(use_intervals=True, use_covariate=True)\n",
    "sig_fastcmh3 = s.createSigPatSearch(use_combinations=False, use_covariate=True)\n",
    "print(sig_fastcmh3)"
   ]
  },
  {
   "cell_type": "code",
   "execution_count": 8,
   "metadata": {
    "collapsed": false
   },
   "outputs": [
    {
     "name": "stdout",
     "output_type": "stream",
     "text": [
      "FACS object with:\n",
      " * alpha = 0.05\n",
      " * lmax = 0\n"
     ]
    }
   ],
   "source": [
    "#different methods for creating a FACS object\n",
    "sig_facs1 = s.createSigPatSearch(method='facs')\n",
    "sig_facs2 = s.createSigPatSearch(use_combinations=True)\n",
    "sig_facs3 = s.createSigPatSearch(use_intervals=False)\n",
    "sig_facs4 = s.createSigPatSearch(use_intervals=False, use_covariate=True)\n",
    "sig_facs5 = s.createSigPatSearch(use_combinations=True, use_covariate=True)\n",
    "print(sig_facs5)"
   ]
  },
  {
   "cell_type": "code",
   "execution_count": 11,
   "metadata": {
    "collapsed": false
   },
   "outputs": [
    {
     "name": "stdout",
     "output_type": "stream",
     "text": [
      "0.001\n",
      "0\n"
     ]
    }
   ],
   "source": [
    "#to see the default values for alpha and lmax:\n",
    "print(sig_fais1.get_alpha())\n",
    "print(sig_fais1.get_lmax())"
   ]
  },
  {
   "cell_type": "code",
   "execution_count": 12,
   "metadata": {
    "collapsed": false
   },
   "outputs": [
    {
     "name": "stdout",
     "output_type": "stream",
     "text": [
      "0.001\n",
      "10\n"
     ]
    }
   ],
   "source": [
    "#to set a new value of alpha:\n",
    "sig_fais1.set_alpha(0.001)\n",
    "print(sig_fais1.get_alpha())\n",
    "\n",
    "sig_fais1.set_lmax(10)\n",
    "print(sig_fais1.get_lmax())"
   ]
  },
  {
   "cell_type": "code",
   "execution_count": 13,
   "metadata": {
    "collapsed": false
   },
   "outputs": [
    {
     "name": "stdout",
     "output_type": "stream",
     "text": [
      "FAIS object with:\n",
      " * alpha = 0.001\n",
      " * lmax = 10\n"
     ]
    }
   ],
   "source": [
    "print(sig_fais1)"
   ]
  }
 ],
 "metadata": {
  "kernelspec": {
   "display_name": "Python 2",
   "language": "python",
   "name": "python2"
  },
  "language_info": {
   "codemirror_mode": {
    "name": "ipython",
    "version": 2
   },
   "file_extension": ".py",
   "mimetype": "text/x-python",
   "name": "python",
   "nbconvert_exporter": "python",
   "pygments_lexer": "ipython2",
   "version": "2.7.13"
  }
 },
 "nbformat": 4,
 "nbformat_minor": 0
}
